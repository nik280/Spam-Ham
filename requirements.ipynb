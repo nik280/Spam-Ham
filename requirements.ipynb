{
  "nbformat": 4,
  "nbformat_minor": 0,
  "metadata": {
    "colab": {
      "name": "requirements.ipynb",
      "private_outputs": true,
      "provenance": [],
      "authorship_tag": "ABX9TyMIpyNsnlAD1UqIGZ8+R++R",
      "include_colab_link": true
    },
    "kernelspec": {
      "name": "python3",
      "display_name": "Python 3"
    },
    "language_info": {
      "name": "python"
    }
  },
  "cells": [
    {
      "cell_type": "markdown",
      "metadata": {
        "id": "view-in-github",
        "colab_type": "text"
      },
      "source": [
        "<a href=\"https://colab.research.google.com/github/nik280/Spam-Ham/blob/main/requirements.ipynb\" target=\"_parent\"><img src=\"https://colab.research.google.com/assets/colab-badge.svg\" alt=\"Open In Colab\"/></a>"
      ]
    },
    {
      "cell_type": "code",
      "metadata": {
        "id": "_GqAeaLe_oLi"
      },
      "source": [
        "streamlit==0.80.0\n",
        "joblib==1.0.1\n",
        "scikit_learn==0.24.1"
      ],
      "execution_count": null,
      "outputs": []
    }
  ]
}