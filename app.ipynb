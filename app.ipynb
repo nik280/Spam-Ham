{
  "nbformat": 4,
  "nbformat_minor": 0,
  "metadata": {
    "colab": {
      "name": "app.ipynb",
      "private_outputs": true,
      "provenance": [],
      "authorship_tag": "ABX9TyNE49oYrwCMLl01BCJcK+UN",
      "include_colab_link": true
    },
    "kernelspec": {
      "name": "python3",
      "display_name": "Python 3"
    },
    "language_info": {
      "name": "python"
    }
  },
  "cells": [
    {
      "cell_type": "markdown",
      "metadata": {
        "id": "view-in-github",
        "colab_type": "text"
      },
      "source": [
        "<a href=\"https://colab.research.google.com/github/nik280/Spam-Ham/blob/main/app.ipynb\" target=\"_parent\"><img src=\"https://colab.research.google.com/assets/colab-badge.svg\" alt=\"Open In Colab\"/></a>"
      ]
    },
    {
      "cell_type": "code",
      "metadata": {
        "id": "8DR9P8MZ7tL5"
      },
      "source": [
        "import streamlit as st\n",
        "import joblib\n",
        "model = joblib.load('spam-ham')\n",
        "st.title('SPam Ham Classifier')\n",
        "ip = st.text_input(\"Enter the message\")\n",
        "op = model.predict([ip])\n",
        "if st.button('Predict'):\n",
        "  st.title(op[0])"
      ],
      "execution_count": null,
      "outputs": []
    }
  ]
}